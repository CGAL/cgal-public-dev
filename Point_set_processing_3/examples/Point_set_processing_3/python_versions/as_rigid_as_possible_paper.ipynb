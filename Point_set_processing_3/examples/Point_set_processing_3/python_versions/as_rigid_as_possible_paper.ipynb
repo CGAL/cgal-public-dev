{
 "cells": [
  {
   "cell_type": "code",
   "execution_count": 1,
   "metadata": {},
   "outputs": [],
   "source": [
    "import os\n",
    "import scipy\n",
    "import numpy as np\n",
    "import trimesh\n",
    "from trimesh import viewer\n",
    "from scipy.spatial import cKDTree\n",
    "from trimesh.transformations import translation_matrix, rotation_matrix, concatenate_matrices"
   ]
  },
  {
   "cell_type": "code",
   "execution_count": 2,
   "metadata": {},
   "outputs": [],
   "source": [
    "mesh1 = trimesh.base.Trimesh(vertices=np.loadtxt('data/wolf0.vert'), faces=np.loadtxt('data/wolf0.tri', dtype=np.int32)-1)\n",
    "mesh2 = trimesh.base.Trimesh(vertices=np.loadtxt('data/wolf1.vert'), faces=np.loadtxt('data/wolf1.tri', dtype=np.int32)-1)\n",
    "\n",
    "mesh1.visual.vertex_colors = trimesh.visual.random_color()\n",
    "\n",
    "R = np.array([[ 1.   ,  0.   , -0.001],\n",
    "              [-0.001,  0.653, -0.757],\n",
    "              [ 0.   ,  0.757,  0.653]])\n",
    "T = np.array([ -0.043, -35.027,  -7.295])\n",
    "mesh1.vertices = np.dot(mesh1.vertices, R) + T\n",
    "\n",
    "# write scene to html\n",
    "if os.path.exists(\"scene.html\"):\n",
    "    os.remove(\"scene.html\")\n",
    "html = viewer.notebook.scene_to_html((trimesh.util.concatenate([mesh1, mesh2])).scene())\n",
    "with open(\"scene.html\", \"w\") as file:\n",
    "    file.write(html)"
   ]
  },
  {
   "cell_type": "code",
   "execution_count": 3,
   "metadata": {},
   "outputs": [],
   "source": [
    "def get_laplacian(faces):\n",
    "    N = faces.max() + 1\n",
    "    # face to edge\n",
    "    row, col = np.concatenate([faces[:2], faces[1:], faces[::2]], axis=1)\n",
    "    # to undirected\n",
    "    row, col = np.unique(np.concatenate([np.stack([row, col]), np.stack([col, row])], axis=1), axis=1)\n",
    "    # edge weight\n",
    "    data = np.ones(len(row))\n",
    "    # adjacency matrix\n",
    "    A = scipy.sparse.coo_matrix((data, (row, col)), shape=(N, N)).todok().tocsr()\n",
    "    # ensure symmetry\n",
    "    assert (abs(A - A.T) > 1e-10).nnz == 0\n",
    "    # degree matrix\n",
    "    D = scipy.sparse.diags(np.array(A.sum(axis=1)).flatten())\n",
    "    # combinatorial Laplacian\n",
    "    L = D - A\n",
    "    return L.tocoo()\n",
    "\n",
    "# def get_edge_length(faces):\n",
    "#     row, col = np.concatenate([faces[:2], faces[1:], faces[::2]], axis=1)\n",
    "#     row, col = np.unique(np.concatenate([np.stack([row, col]), np.stack([col, row])], axis=1), axis=1)\n",
    "#     return np.linalg.norm(mesh1.vertices[row] - mesh1.vertices[col], axis=1)\n",
    "\n",
    "def arap(source, target):\n",
    "    \n",
    "    x = source.vertices\n",
    "    y = target.vertices\n",
    "    tree = cKDTree(y)\n",
    "    N = len(x)\n",
    "    L = get_laplacian(source.faces.T)\n",
    "\n",
    "    for i in range(1):\n",
    "        \n",
    "        _, PI = tree.query(x, k=1)\n",
    "        y_PI = y[PI]\n",
    "\n",
    "        print('iteration: ', i + 1)\n",
    "\n",
    "        # measure rms error\n",
    "        print('rms error: ', np.sqrt(np.mean(np.linalg.norm(x - y, axis=1) ** 2)))\n",
    "\n",
    "        S = np.einsum('ij,ik->ijk', x[L.row] - x[L.col], y_PI[L.row] - y_PI[L.col])\n",
    "        S = scipy.sparse.bsr_matrix((S, L.tocsr().indices, L.tocsr().indptr),\n",
    "                                    shape=(3*N, 3*N))\n",
    "        S = np.asarray(S.reshape(N, N*3*3).sum(axis=0))\n",
    "        S = S.reshape(3, N, 3).swapaxes(0, 1)\n",
    "\n",
    "        U, _, Vh = np.linalg.svd(S)\n",
    "\n",
    "        R = np.einsum('ikj, ilk -> ijl', Vh, U)\n",
    "\n",
    "        b = np.einsum('ijk,ik->ij', R[L.row] + R[L.col], x[L.row] - x[L.col])[:, None] * -0.5\n",
    "        b = scipy.sparse.bsr_matrix((b, L.tocsr().indices, L.tocsr().indptr),\n",
    "                                    shape=(N, 3*N))\n",
    "        b = np.asarray(b.sum(axis=0))\n",
    "        b = b.reshape(N, 3)\n",
    "\n",
    "        x_solution, info = scipy.sparse.linalg.cg(L, b[:, 0])\n",
    "        print('info: ', info)\n",
    "        y_solution, info = scipy.sparse.linalg.cg(L, b[:, 1])\n",
    "        print('info: ', info)\n",
    "        z_solution, info = scipy.sparse.linalg.cg(L, b[:, 2])\n",
    "        print('info: ', info)\n",
    "\n",
    "        x = np.stack([x_solution, y_solution, z_solution], axis=1)\n",
    "\n",
    "        # rigid part\n",
    "        U, _, Vh = np.linalg.svd(np.einsum('ij, ik -> jk', x - x.mean(axis=0), y - y.mean(axis=0)))\n",
    "        R = np.einsum('ji, kj -> ik', Vh, U)\n",
    "        t = y.mean(axis=0) - R @ x.mean(axis=0)\n",
    "        x = x @ R + t\n",
    "\n",
    "    return x\n"
   ]
  },
  {
   "cell_type": "code",
   "execution_count": 4,
   "metadata": {},
   "outputs": [
    {
     "name": "stdout",
     "output_type": "stream",
     "text": [
      "iteration:  1\n",
      "rms error:  7.021454425631726\n",
      "info:  0\n",
      "info:  0\n",
      "info:  0\n"
     ]
    }
   ],
   "source": [
    "solution = arap(mesh1, mesh2)"
   ]
  },
  {
   "cell_type": "code",
   "execution_count": 5,
   "metadata": {},
   "outputs": [],
   "source": [
    "trans_mesh = trimesh.base.Trimesh(solution, mesh1.faces)\n",
    "\n",
    "trans_mesh.apply_transform(translation_matrix([40, 0, 0]))\n",
    "\n",
    "trans_mesh.visual.vertex_colors = trimesh.visual.random_color()\n",
    "\n",
    "if os.path.exists(\"scene.html\"):\n",
    "    os.remove(\"scene.html\")\n",
    "html = viewer.notebook.scene_to_html(trimesh.util.concatenate([trans_mesh, mesh2]).scene())\n",
    "with open(\"scene.html\", \"w\") as file:\n",
    "    file.write(html)"
   ]
  },
  {
   "cell_type": "code",
   "execution_count": null,
   "metadata": {},
   "outputs": [],
   "source": []
  }
 ],
 "metadata": {
  "kernelspec": {
   "display_name": "Python 3 (ipykernel)",
   "language": "python",
   "name": "python3"
  },
  "language_info": {
   "codemirror_mode": {
    "name": "ipython",
    "version": 3
   },
   "file_extension": ".py",
   "mimetype": "text/x-python",
   "name": "python",
   "nbconvert_exporter": "python",
   "pygments_lexer": "ipython3",
   "version": "3.7.11"
  }
 },
 "nbformat": 4,
 "nbformat_minor": 2
}

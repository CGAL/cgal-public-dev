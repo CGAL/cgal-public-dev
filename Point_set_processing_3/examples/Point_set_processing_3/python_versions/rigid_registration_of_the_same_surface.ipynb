{
 "cells": [
  {
   "cell_type": "code",
   "execution_count": null,
   "metadata": {},
   "outputs": [],
   "source": [
    "import os\n",
    "import scipy\n",
    "import numpy as np\n",
    "import trimesh\n",
    "from trimesh import viewer\n",
    "from trimesh.transformations import translation_matrix, rotation_matrix, concatenate_matrices\n",
    "from scipy.spatial.transform import Rotation\n",
    "\n",
    "np.set_printoptions(precision=3, suppress=True, linewidth=np.inf)\n"
   ]
  },
  {
   "cell_type": "code",
   "execution_count": null,
   "metadata": {},
   "outputs": [],
   "source": [
    "mesh1 = trimesh.exchange.load.load('wolf1.ply')\n",
    "mesh2 = mesh1.copy()\n",
    "\n",
    "# apply an arbitrary transformation to mesh1\n",
    "T = translation_matrix([-11, 0, 11])\n",
    "xaxis, yaxis, zaxis = [1, 0, 0], [0, 1, 0], [0, 0, 1]\n",
    "Rx = rotation_matrix(0, xaxis)\n",
    "Ry = rotation_matrix(0, yaxis)\n",
    "Rz = rotation_matrix(0, zaxis)\n",
    "M = concatenate_matrices(T, Rx, Ry, Rz)\n",
    "mesh1.apply_transform(M)\n",
    "\n",
    "# write scene to html\n",
    "if os.path.exists(\"scene.html\"):\n",
    "    os.remove(\"scene.html\")\n",
    "html = viewer.notebook.scene_to_html((trimesh.util.concatenate([mesh1, mesh2])).scene())\n",
    "with open(\"scene.html\", \"w\") as file:\n",
    "    file.write(html)\n"
   ]
  },
  {
   "cell_type": "code",
   "execution_count": null,
   "metadata": {},
   "outputs": [],
   "source": [
    "def register(source, target, max_iter=100):\n",
    "    # resulting transformation is (R, t)\n",
    "    transform = (np.eye(3), np.zeros(3))\n",
    "    x = source.vertices\n",
    "    y = target.vertices\n",
    "    N = len(x)\n",
    "    for iter in range(max_iter):\n",
    "        # applies transformation to original x\n",
    "        x_t = x.dot(transform[0]) + transform[1]\n",
    "        # build a matrix equivalent to cross product\n",
    "        X_t = np.stack([\n",
    "            np.stack((np.zeros(len(x_t)), -x_t[:, 2], x_t[:, 1]), axis=1),\n",
    "            np.stack((x_t[:, 2], np.zeros(len(x_t)), -x_t[:, 0]), axis=1),\n",
    "            np.stack((-x_t[:, 1], x_t[:, 0], np.zeros(len(x_t))), axis=1)\n",
    "        ], axis=1)\n",
    "        # build blocks of sparse coefficient matrix A\n",
    "        A_rr = np.einsum('abc,adc->bd', X_t, X_t)\n",
    "        A_tr = -np.sum(X_t, axis=0)\n",
    "        A_rt = A_tr.T\n",
    "        A_tt = N * np.eye(3)\n",
    "        A_rr = scipy.sparse.csr_matrix(A_rr)\n",
    "        A_tr = scipy.sparse.csr_matrix(A_tr)\n",
    "        A_rt = scipy.sparse.csr_matrix(A_rt)\n",
    "        A_tt = scipy.sparse.csr_matrix(A_tt)\n",
    "        # assemble coefficient matrix A\n",
    "        A = scipy.sparse.bmat([[A_rr, A_tr],\n",
    "                               [A_rt, A_tt]], format='csr')\n",
    "        # build blocks of result vector b\n",
    "        b_r = -np.einsum('abc,ac->b', X_t, y)\n",
    "        b_t = np.sum(y - x_t, axis=0)\n",
    "        # assemble result vector b\n",
    "        b = np.concatenate([b_r, b_t])\n",
    "        # solve system of linear equations Ax = b using conjugate gradient method\n",
    "        solution, info = scipy.sparse.linalg.cg(A, b, tol=1e-10, maxiter=1000)\n",
    "        # ensure convergence\n",
    "        assert info == 0\n",
    "        # update resulting transformation\n",
    "        r = solution[:3]\n",
    "        t = solution[3:]\n",
    "        R = Rotation.from_euler('xyz', r).as_matrix()\n",
    "        # ensure that R is a rotation matrix\n",
    "        assert np.isclose(np.linalg.det(R), 1.0)\n",
    "        transform = (np.dot(transform[0], R), transform[1] + t)\n",
    "        print(iter, '\\n', transform, '\\n')\n",
    "    return transform\n"
   ]
  },
  {
   "cell_type": "code",
   "execution_count": null,
   "metadata": {},
   "outputs": [],
   "source": [
    "R, t = register(mesh1, mesh2, max_iter=10)\n",
    "print('ground truth\\n', M[:3, :3], M[:3, 3])\n",
    "trans_mesh = trimesh.base.Trimesh(mesh1.vertices.dot(R) + t, mesh1.faces)\n",
    "\n",
    "if os.path.exists(\"scene.html\"):\n",
    "    os.remove(\"scene.html\")\n",
    "html = viewer.notebook.scene_to_html(trimesh.util.concatenate([trans_mesh, mesh2]).scene())\n",
    "with open(\"scene.html\", \"w\") as file:\n",
    "    file.write(html)\n"
   ]
  }
 ],
 "metadata": {
  "kernelspec": {
   "display_name": "Python 3",
   "language": "python",
   "name": "python3"
  },
  "language_info": {
   "codemirror_mode": {
    "name": "ipython",
    "version": 3
   },
   "file_extension": ".py",
   "mimetype": "text/x-python",
   "name": "python",
   "nbconvert_exporter": "python",
   "pygments_lexer": "ipython3",
   "version": "3.7.11"
  },
  "orig_nbformat": 4
 },
 "nbformat": 4,
 "nbformat_minor": 2
}
